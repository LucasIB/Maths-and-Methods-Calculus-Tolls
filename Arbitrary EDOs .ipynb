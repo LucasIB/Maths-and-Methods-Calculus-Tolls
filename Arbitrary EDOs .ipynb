{
 "cells": [
  {
   "cell_type": "code",
   "execution_count": 4,
   "metadata": {},
   "outputs": [
    {
     "data": {
      "image/png": "[encoded data removed]",
      "text/latex": [
       "$$f{\\left (x \\right )} - 2 \\frac{d}{d x} f{\\left (x \\right )} = \\sin{\\left (x \\right )}$$"
      ],
      "text/plain": [
       "         d                \n",
       "f(x) - 2⋅──(f(x)) = sin(x)\n",
       "         dx               "
      ]
     },
     "execution_count": 4,
     "metadata": {},
     "output_type": "execute_result"
    }
   ],
   "source": [
    "from sympy import *\n",
    "x, y, z = symbols('x y z')\n",
    "init_printing(use_unicode=True)\n",
    "f,g = symbols('f g', cls=Function)\n",
    "diffeq = Eq(f(x).diff(x,y) -2*f(x).diff(x) +f(x), sin(x))\n",
    "diffeq"
   ]
  },
  {
   "cell_type": "code",
   "execution_count": 8,
   "metadata": {},
   "outputs": [
    {
     "data": {
      "image/png": "[encoded data removed]",
      "text/latex": [
       "$$f{\\left (x \\right )} - 2 \\frac{d}{d x} f{\\left (x \\right )} = \\cos{\\left (x \\right )}$$"
      ],
      "text/plain": [
       "         d                \n",
       "f(x) - 2⋅──(f(x)) = cos(x)\n",
       "         dx               "
      ]
     },
     "execution_count": 8,
     "metadata": {},
     "output_type": "execute_result"
    }
   ],
   "source": [
    "from sympy import *\n",
    "x, y, z = symbols('x y z')\n",
    "init_printing(use_unicode=True)\n",
    "f,g = symbols('f g', cls=Function)\n",
    "diffeq = Eq(f(x).diff(x,y) -2*f(x).diff(x) +f(x), cos(x))\n",
    "diffeq"
   ]
  },
  {
   "cell_type": "code",
   "execution_count": 9,
   "metadata": {},
   "outputs": [
    {
     "data": {
      "image/png": "[encoded data removed]",
      "text/latex": [
       "$$f{\\left (x \\right )} - 5 \\frac{d}{d x} f{\\left (x \\right )} = \\cos{\\left (x \\right )}$$"
      ],
      "text/plain": [
       "         d                \n",
       "f(x) - 5⋅──(f(x)) = cos(x)\n",
       "         dx               "
      ]
     },
     "execution_count": 9,
     "metadata": {},
     "output_type": "execute_result"
    }
   ],
   "source": [
    "from sympy import *\n",
    "x, y, z = symbols('x y z')\n",
    "init_printing(use_unicode=True)\n",
    "f,g = symbols('f g', cls=Function)\n",
    "diffeq = Eq(f(x).diff(x,y) -5*f(x).diff(x) +f(x)-f(x).diff(x,y), cos(x))\n",
    "diffeq"
   ]
  },
  {
   "cell_type": "code",
   "execution_count": 10,
   "metadata": {},
   "outputs": [
    {
     "data": {
      "image/png": "[encoded data removed]",
      "text/latex": [
       "$$f{\\left (x \\right )} - 5 \\frac{d}{d x} f{\\left (x \\right )} = \\cos{\\left (x \\right )}$$"
      ],
      "text/plain": [
       "         d                \n",
       "f(x) - 5⋅──(f(x)) = cos(x)\n",
       "         dx               "
      ]
     },
     "execution_count": 10,
     "metadata": {},
     "output_type": "execute_result"
    }
   ],
   "source": [
    "diffeq"
   ]
  },
  {
   "cell_type": "code",
   "execution_count": 11,
   "metadata": {},
   "outputs": [
    {
     "data": {
      "image/png": "[encoded data removed]",
      "text/latex": [
       "$$f{\\left (x \\right )} = \\left(C_{1} - \\frac{5}{26} e^{- \\frac{x}{5}} \\sin{\\left (x \\right )} + \\frac{e^{- \\frac{x}{5}}}{26} \\cos{\\left (x \\right )}\\right) e^{\\frac{x}{5}}$$"
      ],
      "text/plain": [
       "       ⎛        -x            -x        ⎞   \n",
       "       ⎜        ───           ───       ⎟  x\n",
       "       ⎜         5             5        ⎟  ─\n",
       "       ⎜     5⋅ℯ   ⋅sin(x)   ℯ   ⋅cos(x)⎟  5\n",
       "f(x) = ⎜C₁ - ───────────── + ───────────⎟⋅ℯ \n",
       "       ⎝           26             26    ⎠   "
      ]
     },
     "execution_count": 11,
     "metadata": {},
     "output_type": "execute_result"
    }
   ],
   "source": [
    "dsolve(diffeq, f(x))\n"
   ]
  },
  {
   "cell_type": "code",
   "execution_count": 12,
   "metadata": {},
   "outputs": [],
   "source": [
    "diffeq = Eq(f(x).diff(x,y) - 2*f(x).diff(x) +f(x),sin(x))\n"
   ]
  },
  {
   "cell_type": "code",
   "execution_count": 13,
   "metadata": {},
   "outputs": [
    {
     "data": {
      "image/png": "[encoded data removed]",
      "text/latex": [
       "$$f{\\left (x \\right )} - 2 \\frac{d}{d x} f{\\left (x \\right )} = \\sin{\\left (x \\right )}$$"
      ],
      "text/plain": [
       "         d                \n",
       "f(x) - 2⋅──(f(x)) = sin(x)\n",
       "         dx               "
      ]
     },
     "execution_count": 13,
     "metadata": {},
     "output_type": "execute_result"
    }
   ],
   "source": [
    "diffeq"
   ]
  },
  {
   "cell_type": "code",
   "execution_count": 14,
   "metadata": {},
   "outputs": [
    {
     "data": {
      "image/png": "[encoded data removed]",
      "text/latex": [
       "$$f{\\left (x \\right )} = \\left(C_{1} + \\frac{e^{- \\frac{x}{2}}}{5} \\sin{\\left (x \\right )} + \\frac{2}{5} e^{- \\frac{x}{2}} \\cos{\\left (x \\right )}\\right) e^{\\frac{x}{2}}$$"
      ],
      "text/plain": [
       "       ⎛      -x              -x        ⎞   \n",
       "       ⎜      ───             ───       ⎟  x\n",
       "       ⎜       2               2        ⎟  ─\n",
       "       ⎜     ℯ   ⋅sin(x)   2⋅ℯ   ⋅cos(x)⎟  2\n",
       "f(x) = ⎜C₁ + ─────────── + ─────────────⎟⋅ℯ \n",
       "       ⎝          5              5      ⎠   "
      ]
     },
     "execution_count": 14,
     "metadata": {},
     "output_type": "execute_result"
    }
   ],
   "source": [
    "dsolve(diffeq, f(x))\n"
   ]
  },
  {
   "cell_type": "code",
   "execution_count": 15,
   "metadata": {},
   "outputs": [
    {
     "name": "stderr",
     "output_type": "stream",
     "text": [
      "C:\\Python34\\lib\\site-packages\\IPython\\core\\formatters.py:239: FormatterWarning: Exception in image/png formatter: \n",
      "\\begin{bmatrix}\\end{bmatrix}\n",
      "^\n",
      "Unknown symbol: \\begin (at char 0), (line:1, col:1)\n",
      "  FormatterWarning,\n"
     ]
    },
    {
     "data": {
      "text/latex": [
       "$$\\begin{bmatrix}\\end{bmatrix}$$"
      ],
      "text/plain": [
       "[]"
      ]
     },
     "execution_count": 15,
     "metadata": {},
     "output_type": "execute_result"
    }
   ],
   "source": [
    "solve(exp(x),x)"
   ]
  },
  {
   "cell_type": "code",
   "execution_count": 16,
   "metadata": {},
   "outputs": [
    {
     "name": "stderr",
     "output_type": "stream",
     "text": [
      "C:\\Python34\\lib\\site-packages\\IPython\\core\\formatters.py:239: FormatterWarning: Exception in image/png formatter: \n",
      "\\begin{bmatrix}\\begin{pmatrix}- \\sqrt{2} + 3, & \\sqrt{2} + 3\\end{pmatrix}, & \\begin{pmatrix}\\sqrt{2} + 3, & - \\sqrt{2} + 3\\end{pmatrix}\\end{bmatrix}\n",
      "^\n",
      "Unknown symbol: \\begin (at char 0), (line:1, col:1)\n",
      "  FormatterWarning,\n"
     ]
    },
    {
     "data": {
      "text/latex": [
       "$$\\begin{bmatrix}\\begin{pmatrix}- \\sqrt{2} + 3, & \\sqrt{2} + 3\\end{pmatrix}, & \\begin{pmatrix}\\sqrt{2} + 3, & - \\sqrt{2} + 3\\end{pmatrix}\\end{bmatrix}$$"
      ],
      "text/plain": [
       "⎡⎛    ___        ___    ⎞  ⎛  ___          ___    ⎞⎤\n",
       "⎣⎝- ╲╱ 2  + 3, ╲╱ 2  + 3⎠, ⎝╲╱ 2  + 3, - ╲╱ 2  + 3⎠⎦"
      ]
     },
     "execution_count": 16,
     "metadata": {},
     "output_type": "execute_result"
    }
   ],
   "source": [
    "solve([x*y-7,x+y-6],[x,y])"
   ]
  },
  {
   "cell_type": "code",
   "execution_count": 17,
   "metadata": {},
   "outputs": [
    {
     "data": {
      "text/latex": [
       "$$F(x) = \\int_{0}^{\\infty}f(x)ê{2\\pi i k } dx$$"
      ],
      "text/plain": [
       "<IPython.core.display.Math at 0x75d1c30>"
      ]
     },
     "metadata": {},
     "output_type": "display_data"
    }
   ],
   "source": [
    "from IPython.display import display, Math, Latex\n",
    "\n",
    "display(Math(r'F(x) = \\int_{0}^{\\infty}f(x)ê{2\\pi i k } dx'))\n",
    "\n"
   ]
  },
  {
   "cell_type": "code",
   "execution_count": 18,
   "metadata": {},
   "outputs": [
    {
     "name": "stderr",
     "output_type": "stream",
     "text": [
      "C:\\Python34\\lib\\site-packages\\IPython\\core\\formatters.py:239: FormatterWarning: Exception in image/png formatter: \n",
      "\\begin{bmatrix}-1, & 1\\end{bmatrix}\n",
      "^\n",
      "Unknown symbol: \\begin (at char 0), (line:1, col:1)\n",
      "  FormatterWarning,\n"
     ]
    },
    {
     "data": {
      "text/latex": [
       "$$\\begin{bmatrix}-1, & 1\\end{bmatrix}$$"
      ],
      "text/plain": [
       "[-1, 1]"
      ]
     },
     "execution_count": 18,
     "metadata": {},
     "output_type": "execute_result"
    }
   ],
   "source": [
    "solve(Eq(x**2, 1),x)"
   ]
  },
  {
   "cell_type": "code",
   "execution_count": 19,
   "metadata": {},
   "outputs": [
    {
     "data": {
      "image/png": "[encoded data removed]",
      "text/latex": [
       "$$x = y$$"
      ],
      "text/plain": [
       "x = y"
      ]
     },
     "execution_count": 19,
     "metadata": {},
     "output_type": "execute_result"
    }
   ],
   "source": [
    "Eq(x,y)"
   ]
  },
  {
   "cell_type": "code",
   "execution_count": 20,
   "metadata": {},
   "outputs": [
    {
     "ename": "NameError",
     "evalue": "name 'Yn' is not defined",
     "output_type": "error",
     "traceback": [
      "\u001b[1;31m---------------------------------------------------------------------------\u001b[0m\n\u001b[1;31mNameError\u001b[0m                                 Traceback (most recent call last)",
      "\u001b[1;32m<ipython-input-20-ac7a00f91ef6>\u001b[0m in \u001b[0;36m<module>\u001b[1;34m()\u001b[0m\n\u001b[1;32m----> 1\u001b[1;33m \u001b[0mEq\u001b[0m\u001b[1;33m(\u001b[0m\u001b[1;33m(\u001b[0m\u001b[0mYn\u001b[0m\u001b[1;33m+\u001b[0m\u001b[1;33m(\u001b[0m\u001b[0mh\u001b[0m\u001b[1;33m/\u001b[0m\u001b[1;36m6\u001b[0m\u001b[1;33m)\u001b[0m\u001b[1;33m*\u001b[0m\u001b[1;33m[\u001b[0m\u001b[0mK1\u001b[0m\u001b[1;33m+\u001b[0m\u001b[1;36m2\u001b[0m\u001b[1;33m*\u001b[0m\u001b[0mK2\u001b[0m\u001b[1;33m+\u001b[0m\u001b[1;36m2\u001b[0m\u001b[1;33m*\u001b[0m\u001b[0mK3\u001b[0m\u001b[1;33m+\u001b[0m\u001b[0mK4\u001b[0m\u001b[1;33m]\u001b[0m\u001b[1;33m)\u001b[0m\u001b[1;33m,\u001b[0m\u001b[0mY\u001b[0m\u001b[1;33m)\u001b[0m\u001b[1;33m\u001b[0m\u001b[0m\n\u001b[0m",
      "\u001b[1;31mNameError\u001b[0m: name 'Yn' is not defined"
     ]
    }
   ],
   "source": [
    "Eq((Yn+(h/6)*[K1+2*K2+2*K3+K4]),Y)"
   ]
  },
  {
   "cell_type": "code",
   "execution_count": null,
   "metadata": {},
   "outputs": [],
   "source": []
  }
 ],
 "metadata": {
  "kernelspec": {
   "display_name": "Python 3",
   "language": "python",
   "name": "python3"
  },
  "language_info": {
   "codemirror_mode": {
    "name": "ipython",
    "version": 3
   },
   "file_extension": ".py",
   "mimetype": "text/x-python",
   "name": "python",
   "nbconvert_exporter": "python",
   "pygments_lexer": "ipython3",
   "version": "3.4.1"
  }
 },
 "nbformat": 4,
 "nbformat_minor": 1
}
