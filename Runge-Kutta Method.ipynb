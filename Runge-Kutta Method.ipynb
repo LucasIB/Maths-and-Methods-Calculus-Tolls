{
 "cells": [
  {
   "cell_type": "markdown",
   "metadata": {},
   "source": [
    "## Bibliotecas"
   ]
  },
  {
   "cell_type": "code",
   "execution_count": 1,
   "metadata": {},
   "outputs": [],
   "source": [
    "import sys, math\n",
    "import numpy as np\n",
    "import matplotlib.pyplot as plt\n",
    "from sympy import *\n",
    "init_printing(True)\n",
    "% matplotlib inline"
   ]
  },
  {
   "cell_type": "markdown",
   "metadata": {},
   "source": [
    "## Variáveis:"
   ]
  },
  {
   "cell_type": "code",
   "execution_count": 2,
   "metadata": {},
   "outputs": [],
   "source": [
    "xn,yn = symbols('x_n y_n')\n",
    "h = symbols ('h')\n",
    "y_n1 =symbols('y_(n+1)')\n",
    "x_n1 =symbols('x_(n+1)')\n",
    "K1, K2, K3, K4 =symbols('K1 K2 K3 K4')\n",
    "f =symbols('f')"
   ]
  },
  {
   "cell_type": "markdown",
   "metadata": {},
   "source": [
    "## Equações Úteis:"
   ]
  },
  {
   "cell_type": "markdown",
   "metadata": {},
   "source": [
    "### Equações de y(n+1):"
   ]
  },
  {
   "cell_type": "code",
   "execution_count": 3,
   "metadata": {},
   "outputs": [
    {
     "data": {
      "image/png": "[encoded data removed]",
      "text/latex": [
       "$$y_{(n+1)} = \\frac{h}{6} \\left(K_{1} + 2 K_{2} + 2 K_{3} + K_{4}\\right) + y_{n}$$"
      ],
      "text/plain": [
       "         h⋅(K₁ + 2⋅K₂ + 2⋅K₃ + K₄)     \n",
       "y₍ₙ₊₁₎ = ───────────────────────── + yₙ\n",
       "                     6                 "
      ]
     },
     "execution_count": 3,
     "metadata": {},
     "output_type": "execute_result"
    }
   ],
   "source": [
    "Eq(y_n1,yn+(h/6)*(K1+2*K2+2*K3+K4))"
   ]
  },
  {
   "cell_type": "markdown",
   "metadata": {},
   "source": [
    "### Equação do xn:"
   ]
  },
  {
   "cell_type": "code",
   "execution_count": 4,
   "metadata": {},
   "outputs": [
    {
     "data": {
      "image/png": "[encoded data removed]",
      "text/latex": [
       "$$x_{(n+1)} = h + x_{n}$$"
      ],
      "text/plain": [
       "x₍ₙ₊₁₎ = h + xₙ"
      ]
     },
     "execution_count": 4,
     "metadata": {},
     "output_type": "execute_result"
    }
   ],
   "source": [
    "Eq(x_n1,xn+h)"
   ]
  },
  {
   "cell_type": "markdown",
   "metadata": {},
   "source": [
    "### Valores dos Ks"
   ]
  },
  {
   "cell_type": "code",
   "execution_count": 5,
   "metadata": {},
   "outputs": [
    {
     "data": {
      "image/png": "[encoded data removed]",
      "text/latex": [
       "$$K_{1} = f{\\left (x_{n},y_{n} \\right )}$$"
      ],
      "text/plain": [
       "K₁ = f(xₙ, yₙ)"
      ]
     },
     "execution_count": 5,
     "metadata": {},
     "output_type": "execute_result"
    }
   ],
   "source": [
    "K_1 = Eq(K1,f(xn,yn))\n",
    "K_1"
   ]
  },
  {
   "cell_type": "code",
   "execution_count": 6,
   "metadata": {},
   "outputs": [
    {
     "data": {
      "image/png": "[encoded data removed]",
      "text/latex": [
       "$$K_{2} = f{\\left (\\frac{h}{2} + x_{n},\\frac{K_{1} h}{2} + y_{n} \\right )}$$"
      ],
      "text/plain": [
       "      ⎛h       K₁⋅h     ⎞\n",
       "K₂ = f⎜─ + xₙ, ──── + yₙ⎟\n",
       "      ⎝2        2       ⎠"
      ]
     },
     "execution_count": 6,
     "metadata": {},
     "output_type": "execute_result"
    }
   ],
   "source": [
    "K_2 = Eq(K2, f(xn +h/2,yn+(h/2*K1)))\n",
    "K_2"
   ]
  },
  {
   "cell_type": "code",
   "execution_count": 7,
   "metadata": {},
   "outputs": [
    {
     "data": {
      "image/png": "[encoded data removed]",
      "text/latex": [
       "$$K_{3} = f{\\left (\\frac{h}{2} + x_{n},\\frac{K_{2} h}{2} + y_{n} \\right )}$$"
      ],
      "text/plain": [
       "      ⎛h       K₂⋅h     ⎞\n",
       "K₃ = f⎜─ + xₙ, ──── + yₙ⎟\n",
       "      ⎝2        2       ⎠"
      ]
     },
     "execution_count": 7,
     "metadata": {},
     "output_type": "execute_result"
    }
   ],
   "source": [
    "K_3 = Eq(K3, f(xn +h/2,yn+(h/2*K2)))\n",
    "K_3"
   ]
  },
  {
   "cell_type": "code",
   "execution_count": 8,
   "metadata": {},
   "outputs": [
    {
     "data": {
      "image/png": "[encoded data removed]",
      "text/latex": [
       "$$K_{4} = f{\\left (h + x_{n},K_{3} h + y_{n} \\right )}$$"
      ],
      "text/plain": [
       "K₄ = f(h + xₙ, K₃⋅h + yₙ)"
      ]
     },
     "execution_count": 8,
     "metadata": {},
     "output_type": "execute_result"
    }
   ],
   "source": [
    "K_4 = Eq(K4, f(xn +h,yn+h*K3))\n",
    "K_4"
   ]
  },
  {
   "cell_type": "markdown",
   "metadata": {},
   "source": [
    "# Using the formulas"
   ]
  },
  {
   "cell_type": "code",
   "execution_count": 12,
   "metadata": {},
   "outputs": [],
   "source": [
    " %matplotlib inline "
   ]
  },
  {
   "cell_type": "code",
   "execution_count": 9,
   "metadata": {
    "collapsed": true
   },
   "outputs": [],
   "source": [
    "class RK4(object):\n",
    "    def __init__(self):\n",
    "        pass\n",
    "        \n",
    "    def funcao(self,x,y,h,n):\n",
    "        self.Y = np.array([])\n",
    "        self.X = np.array([])\n",
    "        self.K_1 = np.array([])\n",
    "        self.K_2 = np.array([])\n",
    "        self.K_3 = np.array([])\n",
    "        self.K_4 = np.array([])\n",
    "        func=lambda x,y: -(x**2)*y     # <= Função f'(x,y) a ser iterada pelo método RK4 \n",
    "        \n",
    "        for i in range(n):\n",
    "            print(y)\n",
    "            self.Y = np.append(self.Y, y)\n",
    "            print(x)\n",
    "            self.X = np.append(self.X, x)\n",
    "            K1=func(x,y)\n",
    "            print(K1)\n",
    "            self.K_1 = np.append(self.K_1, K1)\n",
    "            a=x+(h/2)\n",
    "            b=(y+(h/2)*K1)\n",
    "            K2=func(a,b)\n",
    "            print(K2)\n",
    "            self.K_2 = np.append(self.K_2, K2)\n",
    "            c=x+(h/2)\n",
    "            d=(y+(h/2)*K2)\n",
    "            K3=func(c,d)\n",
    "            print(K3)\n",
    "            self.K_3 = np.append(self.K_3, K3)\n",
    "            e=x+h\n",
    "            f=(y+h*K3)\n",
    "            K4=func(e,f)\n",
    "            print(K4)\n",
    "            self.K_4 = np.append(self.K_4, K4)\n",
    "            y=y+(h/6)*(K1+2*K2+2*K3+K4)\n",
    "            x += h\n",
    "          \n",
    "        plt.plot(self.X,self.Y)\n",
    "        plt.show()\n",
    "        \n",
    "a = RK4()"
   ]
  },
  {
   "cell_type": "code",
   "execution_count": 10,
   "metadata": {},
   "outputs": [
    {
     "name": "stdout",
     "output_type": "stream",
     "text": [
      "2\n",
      "0\n",
      "0\n",
      "-0.005000000000000001\n",
      "-0.004999375\n",
      "-0.019995000625000002\n",
      "1.9993334374895833\n",
      "0.1\n",
      "-0.019993334374895838\n",
      "-0.04496250984234387\n",
      "-0.044934419519943\n",
      "-0.07979359982150358\n",
      "1.994673757607567\n",
      "0.2\n",
      "-0.0797869503043027\n",
      "-0.124417775630772\n",
      "-0.12427830430162677\n",
      "-0.17840213344596645\n",
      "1.9820807368806492\n",
      "0.30000000000000004\n",
      "-0.17838726631925847\n",
      "-0.2417122682616741\n",
      "-0.2413244026247768\n",
      "-0.3132717274589075\n",
      "1.957785197954798\n",
      "0.4\n",
      "-0.31324563167276775\n",
      "-0.39327989056515983\n",
      "-0.3924695436938744\n",
      "-0.47963456089635265\n",
      "1.9183788802700115\n",
      "0.5\n",
      "-0.47959472006750287\n",
      "-0.5730557411406576\n",
      "-0.5716421431969262\n",
      "-0.6700372797421148\n",
      "1.8610617507952651\n",
      "0.6\n",
      "-0.6699822302862954\n",
      "-0.7721452150962016\n",
      "-0.7699870220420924\n",
      "-0.8741908938096172\n",
      "1.7839211241557236\n",
      "0.7\n",
      "-0.8741213508363045\n",
      "-0.9788709693453235\n",
      "-0.9759248863247573\n",
      "-1.0792503267348785\n",
      "1.6862050676738678\n",
      "0.7999999999999999\n",
      "-1.0791712433112752\n",
      "-1.1792981002297496\n",
      "-1.1756810175235697\n",
      "-1.2705959423964235\n",
      "1.5685429773202955\n",
      "0.8999999999999999\n",
      "-1.2705198116294392\n",
      "-1.3582778305317882\n",
      "-1.3543177499288197\n",
      "-1.4331112023274133\n",
      "1.4330626077389943\n",
      "0.9999999999999999\n",
      "-1.433062607738994\n",
      "-1.5009539487806287\n",
      "-1.4972114386057085\n",
      "-1.552843171292892\n",
      "1.283358665175585\n",
      "1.0999999999999999\n",
      "-1.5528639848624577\n",
      "-1.594558703695681\n",
      "-1.5918016404128341\n",
      "-1.6188170416333945\n",
      "1.1242853032637037\n",
      "1.2\n",
      "-1.6189708366997333\n",
      "-1.6302136897323702\n",
      "-1.6293353418391956\n",
      "-1.6246844897448354\n",
      "0.9615727467705754\n",
      "1.3\n",
      "-1.6250579420422726\n",
      "-1.6043829260207716\n",
      "-1.606266936855731\n",
      "-1.5698542640466047\n",
      "0.801302547906544\n",
      "1.4000000000000001\n",
      "-1.5705529938968266\n",
      "-1.519634223490105\n",
      "-1.5249870592291117\n",
      "-1.4598086444631744\n",
      "0.6493091445099034\n",
      "1.5000000000000002\n",
      "-1.4609455751472833\n",
      "-1.3844691324704759\n",
      "-1.3936558651470274\n",
      "-1.3054555084677142\n",
      "0.5105982931957367\n",
      "1.6000000000000003\n",
      "-1.3071316305810865\n",
      "-1.2121705600125432\n",
      "-1.2250971357436862\n",
      "-1.1215759951057542\n",
      "0.38887757624241504\n",
      "1.7000000000000004\n",
      "-1.1238561953405801\n",
      "-1.0188470973308703\n",
      "-1.0349266154636072\n",
      "-0.9246471236152164\n",
      "0.2862767305000025\n",
      "1.8000000000000005\n",
      "-0.9275366068200086\n",
      "-0.8210574082941852\n",
      "-0.8392786611419167\n",
      "-0.7304794004327776\n",
      "0.2032985947312527\n",
      "1.9000000000000006\n",
      "-0.7339079269798227\n",
      "-0.63350866184855\n",
      "-0.6525970721316332\n",
      "-0.5521555500723577\n",
      "0.1389940123143769\n",
      "2.0000000000000004\n",
      "-0.5559760492575079\n",
      "-0.4672978694009353\n",
      "-0.4859313719432976\n",
      "-0.3986678592794081\n",
      "0.09130897246062056\n",
      "2.1000000000000005\n",
      "-0.4026725685513368\n",
      "-0.32900802779279087\n",
      "-0.34603374477560983\n",
      "-0.27445509423800846\n",
      "0.05752211899518478\n",
      "2.2000000000000006\n",
      "-0.27840705593669446\n",
      "-0.22073394137914726\n",
      "-0.23533244850152638\n",
      "-0.17980114422722016\n",
      "0.034683102663097085\n",
      "2.3000000000000007\n",
      "-0.1834736130877837\n",
      "-0.14087578304308945\n",
      "-0.15263810886418067\n",
      "-0.11185512063367123\n",
      "0.019977160704163832\n",
      "2.400000000000001\n",
      "-0.11506844565598376\n",
      "-0.08537798987424132\n",
      "-0.09428883791573676\n",
      "-0.06592673070368851\n",
      "0.010971680171836692\n",
      "2.500000000000001\n",
      "-0.06857300107397937\n",
      "-0.049048553343190575\n",
      "-0.055396439411663286\n",
      "-0.03672056491933168\n",
      "0.005735287646786379\n",
      "2.600000000000001\n",
      "-0.03877054449227595\n",
      "-0.026662750064706968\n",
      "-0.030914099383087135\n",
      "-0.019273868494802195\n",
      "0.00284865244874194\n",
      "2.700000000000001\n",
      "-0.02076667635132876\n",
      "-0.013690534648264745\n",
      "-0.016366200729735825\n",
      "-0.00950233382602393\n",
      "0.0013422777665193762\n",
      "2.800000000000001\n",
      "-0.010523457689511918\n",
      "-0.00662881190440061\n",
      "-0.00821052492387894\n",
      "-0.004383504555445768\n",
      "0.0005991838348274297\n",
      "2.9000000000000012\n",
      "-0.0050391360508986885\n",
      "-0.0030217432484384173\n",
      "-0.003899561291608943\n",
      "-0.00188304935099882\n"
     ]
    },
    {
     "data": {
      "image/png": "[encoded data removed]",
      "text/plain": [
       "<matplotlib.figure.Figure at 0x72db908>"
      ]
     },
     "metadata": {},
     "output_type": "display_data"
    }
   ],
   "source": [
    "a.funcao(0,2,0.1,30)"
   ]
  }
 ],
 "metadata": {
  "kernelspec": {
   "display_name": "Python 3",
   "language": "python",
   "name": "python3"
  },
  "language_info": {
   "codemirror_mode": {
    "name": "ipython",
    "version": 3
   },
   "file_extension": ".py",
   "mimetype": "text/x-python",
   "name": "python",
   "nbconvert_exporter": "python",
   "pygments_lexer": "ipython3",
   "version": "3.4.1"
  }
 },
 "nbformat": 4,
 "nbformat_minor": 1
}
